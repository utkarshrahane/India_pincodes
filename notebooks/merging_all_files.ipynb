{
 "cells": [
  {
   "cell_type": "code",
   "execution_count": 1,
   "id": "a81b7fda-a7f6-4e79-a9b4-434e793da897",
   "metadata": {},
   "outputs": [],
   "source": [
    "import pandas as pd"
   ]
  },
  {
   "cell_type": "code",
   "execution_count": 2,
   "id": "f359d364-cf9c-404b-9a98-adb64fd59361",
   "metadata": {},
   "outputs": [],
   "source": [
    "final_df=pd.read_csv(\"mh_pincodes.csv\")"
   ]
  },
  {
   "cell_type": "code",
   "execution_count": 3,
   "id": "46e0cdf3-0c1c-47e7-8016-2a969ac2d99a",
   "metadata": {},
   "outputs": [
    {
     "data": {
      "text/plain": [
       "Unnamed: 0          int64\n",
       "Name               object\n",
       "Description       float64\n",
       "BranchType         object\n",
       "DeliveryStatus     object\n",
       "Circle             object\n",
       "District           object\n",
       "Division           object\n",
       "Region             object\n",
       "Block              object\n",
       "State              object\n",
       "Country            object\n",
       "Pincode             int64\n",
       "dtype: object"
      ]
     },
     "execution_count": 3,
     "metadata": {},
     "output_type": "execute_result"
    }
   ],
   "source": [
    "final_df.dtypes"
   ]
  },
  {
   "cell_type": "code",
   "execution_count": 4,
   "id": "7c91c444-c917-401b-8e7d-8b3fd2c3c4bd",
   "metadata": {},
   "outputs": [],
   "source": [
    "# Deleting unnecessary column from the dataframe\n",
    "final_df = final_df.drop('Unnamed: 0', axis=1)"
   ]
  },
  {
   "cell_type": "code",
   "execution_count": 5,
   "id": "b0c1afd0-49fe-49e0-b059-acba408c9e5d",
   "metadata": {},
   "outputs": [],
   "source": [
    "andaman_df = pd.read_csv(\"andaman_nicobar_pincodes.csv\", header=None)"
   ]
  },
  {
   "cell_type": "code",
   "execution_count": 6,
   "id": "962e6c84-181b-42d5-9a72-471cc64fe0b2",
   "metadata": {},
   "outputs": [
    {
     "data": {
      "text/html": [
       "<div>\n",
       "<style scoped>\n",
       "    .dataframe tbody tr th:only-of-type {\n",
       "        vertical-align: middle;\n",
       "    }\n",
       "\n",
       "    .dataframe tbody tr th {\n",
       "        vertical-align: top;\n",
       "    }\n",
       "\n",
       "    .dataframe thead th {\n",
       "        text-align: right;\n",
       "    }\n",
       "</style>\n",
       "<table border=\"1\" class=\"dataframe\">\n",
       "  <thead>\n",
       "    <tr style=\"text-align: right;\">\n",
       "      <th></th>\n",
       "      <th>0</th>\n",
       "      <th>1</th>\n",
       "      <th>2</th>\n",
       "      <th>3</th>\n",
       "      <th>4</th>\n",
       "      <th>5</th>\n",
       "      <th>6</th>\n",
       "      <th>7</th>\n",
       "      <th>8</th>\n",
       "      <th>9</th>\n",
       "      <th>10</th>\n",
       "      <th>11</th>\n",
       "    </tr>\n",
       "  </thead>\n",
       "  <tbody>\n",
       "    <tr>\n",
       "      <th>12</th>\n",
       "      <td>Minnie Bay</td>\n",
       "      <td>NaN</td>\n",
       "      <td>Sub Post Office</td>\n",
       "      <td>Non-Delivery</td>\n",
       "      <td>West Bengal</td>\n",
       "      <td>South Andaman</td>\n",
       "      <td>A - N Islands</td>\n",
       "      <td>Calcutta HQ</td>\n",
       "      <td>Portblair</td>\n",
       "      <td>Andaman &amp; Nicobar</td>\n",
       "      <td>India</td>\n",
       "      <td>744103</td>\n",
       "    </tr>\n",
       "    <tr>\n",
       "      <th>40</th>\n",
       "      <td>Laxmipur</td>\n",
       "      <td>NaN</td>\n",
       "      <td>Branch Post Office</td>\n",
       "      <td>Delivery</td>\n",
       "      <td>West Bengal</td>\n",
       "      <td>North And Middle Andaman</td>\n",
       "      <td>A - N Islands</td>\n",
       "      <td>Calcutta HQ</td>\n",
       "      <td>Diglipur</td>\n",
       "      <td>Andaman &amp; Nicobar</td>\n",
       "      <td>India</td>\n",
       "      <td>744202</td>\n",
       "    </tr>\n",
       "    <tr>\n",
       "      <th>38</th>\n",
       "      <td>Kalighat</td>\n",
       "      <td>NaN</td>\n",
       "      <td>Branch Post Office</td>\n",
       "      <td>Delivery</td>\n",
       "      <td>West Bengal</td>\n",
       "      <td>North And Middle Andaman</td>\n",
       "      <td>A - N Islands</td>\n",
       "      <td>Calcutta HQ</td>\n",
       "      <td>Diglipur</td>\n",
       "      <td>Andaman &amp; Nicobar</td>\n",
       "      <td>India</td>\n",
       "      <td>744202</td>\n",
       "    </tr>\n",
       "    <tr>\n",
       "      <th>0</th>\n",
       "      <td>Marine Jetty</td>\n",
       "      <td>NaN</td>\n",
       "      <td>Sub Post Office</td>\n",
       "      <td>Non-Delivery</td>\n",
       "      <td>West Bengal</td>\n",
       "      <td>South Andaman</td>\n",
       "      <td>A - N Islands</td>\n",
       "      <td>Calcutta HQ</td>\n",
       "      <td>Portblair</td>\n",
       "      <td>Andaman &amp; Nicobar</td>\n",
       "      <td>India</td>\n",
       "      <td>744101</td>\n",
       "    </tr>\n",
       "    <tr>\n",
       "      <th>68</th>\n",
       "      <td>Shoalbay</td>\n",
       "      <td>NaN</td>\n",
       "      <td>Branch Post Office</td>\n",
       "      <td>Delivery</td>\n",
       "      <td>West Bengal</td>\n",
       "      <td>South Andaman</td>\n",
       "      <td>A - N Islands</td>\n",
       "      <td>Calcutta HQ</td>\n",
       "      <td>Ferrargunj</td>\n",
       "      <td>Andaman &amp; Nicobar</td>\n",
       "      <td>India</td>\n",
       "      <td>744206</td>\n",
       "    </tr>\n",
       "  </tbody>\n",
       "</table>\n",
       "</div>"
      ],
      "text/plain": [
       "              0   1                   2             3            4   \\\n",
       "12    Minnie Bay NaN     Sub Post Office  Non-Delivery  West Bengal   \n",
       "40      Laxmipur NaN  Branch Post Office      Delivery  West Bengal   \n",
       "38      Kalighat NaN  Branch Post Office      Delivery  West Bengal   \n",
       "0   Marine Jetty NaN     Sub Post Office  Non-Delivery  West Bengal   \n",
       "68      Shoalbay NaN  Branch Post Office      Delivery  West Bengal   \n",
       "\n",
       "                          5              6            7           8   \\\n",
       "12             South Andaman  A - N Islands  Calcutta HQ   Portblair   \n",
       "40  North And Middle Andaman  A - N Islands  Calcutta HQ    Diglipur   \n",
       "38  North And Middle Andaman  A - N Islands  Calcutta HQ    Diglipur   \n",
       "0              South Andaman  A - N Islands  Calcutta HQ   Portblair   \n",
       "68             South Andaman  A - N Islands  Calcutta HQ  Ferrargunj   \n",
       "\n",
       "                   9      10      11  \n",
       "12  Andaman & Nicobar  India  744103  \n",
       "40  Andaman & Nicobar  India  744202  \n",
       "38  Andaman & Nicobar  India  744202  \n",
       "0   Andaman & Nicobar  India  744101  \n",
       "68  Andaman & Nicobar  India  744206  "
      ]
     },
     "execution_count": 6,
     "metadata": {},
     "output_type": "execute_result"
    }
   ],
   "source": [
    "andaman_df.sample(5)"
   ]
  },
  {
   "cell_type": "code",
   "execution_count": 7,
   "id": "bc1294cd-1b1b-4068-9ee9-06ead84401ac",
   "metadata": {},
   "outputs": [],
   "source": [
    "andaman_df.columns = final_df.columns"
   ]
  },
  {
   "cell_type": "code",
   "execution_count": 8,
   "id": "247cb7f1-5c53-48bd-814c-02d281a13cb3",
   "metadata": {},
   "outputs": [
    {
     "data": {
      "text/html": [
       "<div>\n",
       "<style scoped>\n",
       "    .dataframe tbody tr th:only-of-type {\n",
       "        vertical-align: middle;\n",
       "    }\n",
       "\n",
       "    .dataframe tbody tr th {\n",
       "        vertical-align: top;\n",
       "    }\n",
       "\n",
       "    .dataframe thead th {\n",
       "        text-align: right;\n",
       "    }\n",
       "</style>\n",
       "<table border=\"1\" class=\"dataframe\">\n",
       "  <thead>\n",
       "    <tr style=\"text-align: right;\">\n",
       "      <th></th>\n",
       "      <th>Name</th>\n",
       "      <th>Description</th>\n",
       "      <th>BranchType</th>\n",
       "      <th>DeliveryStatus</th>\n",
       "      <th>Circle</th>\n",
       "      <th>District</th>\n",
       "      <th>Division</th>\n",
       "      <th>Region</th>\n",
       "      <th>Block</th>\n",
       "      <th>State</th>\n",
       "      <th>Country</th>\n",
       "      <th>Pincode</th>\n",
       "    </tr>\n",
       "  </thead>\n",
       "  <tbody>\n",
       "    <tr>\n",
       "      <th>57</th>\n",
       "      <td>Parnasala</td>\n",
       "      <td>NaN</td>\n",
       "      <td>Branch Post Office</td>\n",
       "      <td>Delivery</td>\n",
       "      <td>West Bengal</td>\n",
       "      <td>North And Middle Andaman</td>\n",
       "      <td>A - N Islands</td>\n",
       "      <td>Calcutta HQ</td>\n",
       "      <td>Rangat</td>\n",
       "      <td>Andaman &amp; Nicobar</td>\n",
       "      <td>India</td>\n",
       "      <td>744205</td>\n",
       "    </tr>\n",
       "    <tr>\n",
       "      <th>46</th>\n",
       "      <td>Swarajgram</td>\n",
       "      <td>NaN</td>\n",
       "      <td>Branch Post Office</td>\n",
       "      <td>Delivery</td>\n",
       "      <td>West Bengal</td>\n",
       "      <td>North And Middle Andaman</td>\n",
       "      <td>A - N Islands</td>\n",
       "      <td>Calcutta HQ</td>\n",
       "      <td>Diglipur</td>\n",
       "      <td>Andaman &amp; Nicobar</td>\n",
       "      <td>India</td>\n",
       "      <td>744202</td>\n",
       "    </tr>\n",
       "    <tr>\n",
       "      <th>85</th>\n",
       "      <td>Lapathy</td>\n",
       "      <td>NaN</td>\n",
       "      <td>Branch Post Office</td>\n",
       "      <td>Delivery</td>\n",
       "      <td>West Bengal</td>\n",
       "      <td>Nicobar</td>\n",
       "      <td>A - N Islands</td>\n",
       "      <td>Calcutta HQ</td>\n",
       "      <td>Carnicobar</td>\n",
       "      <td>Andaman &amp; Nicobar</td>\n",
       "      <td>India</td>\n",
       "      <td>744301</td>\n",
       "    </tr>\n",
       "    <tr>\n",
       "      <th>41</th>\n",
       "      <td>Navagram</td>\n",
       "      <td>NaN</td>\n",
       "      <td>Branch Post Office</td>\n",
       "      <td>Delivery</td>\n",
       "      <td>West Bengal</td>\n",
       "      <td>North And Middle Andaman</td>\n",
       "      <td>A - N Islands</td>\n",
       "      <td>Calcutta HQ</td>\n",
       "      <td>Diglipur</td>\n",
       "      <td>Andaman &amp; Nicobar</td>\n",
       "      <td>India</td>\n",
       "      <td>744202</td>\n",
       "    </tr>\n",
       "    <tr>\n",
       "      <th>82</th>\n",
       "      <td>Strait  Island</td>\n",
       "      <td>NaN</td>\n",
       "      <td>Branch Post Office</td>\n",
       "      <td>Delivery</td>\n",
       "      <td>West Bengal</td>\n",
       "      <td>South Andaman</td>\n",
       "      <td>A - N Islands</td>\n",
       "      <td>Calcutta HQ</td>\n",
       "      <td>Port Blair</td>\n",
       "      <td>Andaman &amp; Nicobar</td>\n",
       "      <td>India</td>\n",
       "      <td>744211</td>\n",
       "    </tr>\n",
       "  </tbody>\n",
       "</table>\n",
       "</div>"
      ],
      "text/plain": [
       "              Name  Description          BranchType DeliveryStatus  \\\n",
       "57       Parnasala          NaN  Branch Post Office       Delivery   \n",
       "46      Swarajgram          NaN  Branch Post Office       Delivery   \n",
       "85         Lapathy          NaN  Branch Post Office       Delivery   \n",
       "41        Navagram          NaN  Branch Post Office       Delivery   \n",
       "82  Strait  Island          NaN  Branch Post Office       Delivery   \n",
       "\n",
       "         Circle                  District       Division       Region  \\\n",
       "57  West Bengal  North And Middle Andaman  A - N Islands  Calcutta HQ   \n",
       "46  West Bengal  North And Middle Andaman  A - N Islands  Calcutta HQ   \n",
       "85  West Bengal                   Nicobar  A - N Islands  Calcutta HQ   \n",
       "41  West Bengal  North And Middle Andaman  A - N Islands  Calcutta HQ   \n",
       "82  West Bengal             South Andaman  A - N Islands  Calcutta HQ   \n",
       "\n",
       "         Block              State Country  Pincode  \n",
       "57      Rangat  Andaman & Nicobar   India   744205  \n",
       "46    Diglipur  Andaman & Nicobar   India   744202  \n",
       "85  Carnicobar  Andaman & Nicobar   India   744301  \n",
       "41    Diglipur  Andaman & Nicobar   India   744202  \n",
       "82  Port Blair  Andaman & Nicobar   India   744211  "
      ]
     },
     "execution_count": 8,
     "metadata": {},
     "output_type": "execute_result"
    }
   ],
   "source": [
    "andaman_df.sample(5)"
   ]
  },
  {
   "cell_type": "code",
   "execution_count": 9,
   "id": "32555a28-cb5d-4a00-a829-2c80d95fac9d",
   "metadata": {},
   "outputs": [
    {
     "data": {
      "text/plain": [
       "<bound method DataFrame.info of              Name  Description          BranchType DeliveryStatus  \\\n",
       "0    Marine Jetty          NaN     Sub Post Office   Non-Delivery   \n",
       "1    N.S.Building          NaN     Sub Post Office   Non-Delivery   \n",
       "2      Port Blair          NaN    Head Post Office       Delivery   \n",
       "3         Chatham          NaN     Sub Post Office   Non-Delivery   \n",
       "4       Delanipur          NaN     Sub Post Office   Non-Delivery   \n",
       "..            ...          ...                 ...            ...   \n",
       "97        Teressa          NaN  Branch Post Office       Delivery   \n",
       "98        Trinket          NaN  Branch Post Office       Delivery   \n",
       "99        Kapanga          NaN     Sub Post Office       Delivery   \n",
       "100       Mildera          NaN  Branch Post Office       Delivery   \n",
       "101     Nehrugram          NaN  Branch Post Office       Delivery   \n",
       "\n",
       "          Circle       District       Division       Region       Block  \\\n",
       "0    West Bengal  South Andaman  A - N Islands  Calcutta HQ   Portblair   \n",
       "1    West Bengal  South Andaman  A - N Islands  Calcutta HQ   Portblair   \n",
       "2    West Bengal  South Andaman  A - N Islands  Calcutta HQ  Port Blair   \n",
       "3    West Bengal  South Andaman  A - N Islands  Calcutta HQ   Portblair   \n",
       "4    West Bengal  South Andaman  A - N Islands  Calcutta HQ   Portblair   \n",
       "..           ...            ...            ...          ...         ...   \n",
       "97   West Bengal        Nicobar  A - N Islands  Calcutta HQ  Carnicobar   \n",
       "98   West Bengal        Nicobar  A - N Islands  Calcutta HQ   Nancowrie   \n",
       "99   West Bengal        Nicobar  A - N Islands  Calcutta HQ   Nancowrie   \n",
       "100  West Bengal        Nicobar  A - N Islands  Calcutta HQ   Nancowrie   \n",
       "101  West Bengal        Nicobar  A - N Islands  Calcutta HQ   Nancowrie   \n",
       "\n",
       "                 State Country  Pincode  \n",
       "0    Andaman & Nicobar   India   744101  \n",
       "1    Andaman & Nicobar   India   744101  \n",
       "2    Andaman & Nicobar   India   744101  \n",
       "3    Andaman & Nicobar   India   744102  \n",
       "4    Andaman & Nicobar   India   744102  \n",
       "..                 ...     ...      ...  \n",
       "97   Andaman & Nicobar   India   744303  \n",
       "98   Andaman & Nicobar   India   744303  \n",
       "99   Andaman & Nicobar   India   744304  \n",
       "100  Andaman & Nicobar   India   744304  \n",
       "101  Andaman & Nicobar   India   744304  \n",
       "\n",
       "[102 rows x 12 columns]>"
      ]
     },
     "execution_count": 9,
     "metadata": {},
     "output_type": "execute_result"
    }
   ],
   "source": [
    "andaman_df.info"
   ]
  },
  {
   "cell_type": "code",
   "execution_count": 10,
   "id": "493c53a2-9ea9-4e41-afcb-f680a506f5ba",
   "metadata": {},
   "outputs": [
    {
     "data": {
      "text/plain": [
       "12981"
      ]
     },
     "execution_count": 10,
     "metadata": {},
     "output_type": "execute_result"
    }
   ],
   "source": [
    "# expected rows post merge\n",
    "final_df.shape[0] + andaman_df.shape[0]"
   ]
  },
  {
   "cell_type": "code",
   "execution_count": 11,
   "id": "bc2cbf40-db5f-4f56-827b-2a09606c14a2",
   "metadata": {},
   "outputs": [],
   "source": [
    "final_df = pd.concat([final_df, andaman_df], ignore_index=True)"
   ]
  },
  {
   "cell_type": "code",
   "execution_count": 12,
   "id": "6ce5fa9c-16e8-4a26-bd10-3fbb7568f01a",
   "metadata": {},
   "outputs": [
    {
     "data": {
      "text/plain": [
       "12981"
      ]
     },
     "execution_count": 12,
     "metadata": {},
     "output_type": "execute_result"
    }
   ],
   "source": [
    "# Validation for merge operation\n",
    "final_df.shape[0]"
   ]
  },
  {
   "cell_type": "code",
   "execution_count": 13,
   "id": "c4b06943-f4f1-48be-aeb8-e76e6e3af644",
   "metadata": {},
   "outputs": [],
   "source": [
    "# Realizing that the above set of operations will have to be done for all the other files, so decided to write a function instead.\n",
    "def merge_df(final_df, state_df):\n",
    "    state_df.columns = final_df.columns\n",
    "    print(f\"Number of rows post in final_df: {final_df.shape[0]}\")\n",
    "    print(f\"Number of expected rows post merge operation: {final_df.shape[0] + state_df.shape[0]}\")\n",
    "    merged_df = pd.concat([final_df, state_df], ignore_index=True)\n",
    "    print(f\"Actual number of rows post merge operation: {merged_df.shape[0]}\")\n",
    "\n",
    "    return merged_df"
   ]
  },
  {
   "cell_type": "code",
   "execution_count": 14,
   "id": "1953bdb1-fc44-4c7e-a44c-4c42e0d53b7d",
   "metadata": {},
   "outputs": [],
   "source": [
    "# Importing the csv files manually as there was some cleaning that needed to be done for a few files and parameteres for them were not same."
   ]
  },
  {
   "cell_type": "code",
   "execution_count": 15,
   "id": "d1dc7f73-1eb4-4a81-828d-e62fe5d8494a",
   "metadata": {},
   "outputs": [],
   "source": [
    "# Cleaned and fixed header issue for punjab, pondicherry, odisha, nagaland, mizoram.\n",
    "# These files somehow had an additional index in it, so I removed that using cleaning_files.ipynb"
   ]
  },
  {
   "cell_type": "code",
   "execution_count": 16,
   "id": "18b2a7fe-17dc-4bfb-91a6-2868bed18fe8",
   "metadata": {},
   "outputs": [],
   "source": [
    "andhrapradesh_df = pd.read_csv(\"andhrap_pincodes.csv\", header=None)"
   ]
  },
  {
   "cell_type": "code",
   "execution_count": 33,
   "id": "ae64cb45-83a6-40ac-94de-eaaed8dffc4c",
   "metadata": {},
   "outputs": [
    {
     "name": "stdout",
     "output_type": "stream",
     "text": [
      "Number of rows post in final_df: 12981\n",
      "Number of expected rows post merge operation: 23328\n",
      "Actual number of rows post merge operation: 23328\n"
     ]
    }
   ],
   "source": [
    "final_df = merge_df(final_df, andhrapradesh_df)"
   ]
  },
  {
   "cell_type": "code",
   "execution_count": 35,
   "id": "0b0fb3b5-dc4b-44e4-b19b-afd3ebfa9c10",
   "metadata": {},
   "outputs": [],
   "source": [
    "arunachal_df = pd.read_csv(\"arunachal_pincodes.csv\", header=None)"
   ]
  },
  {
   "cell_type": "code",
   "execution_count": 37,
   "id": "674c556f-b15b-4e06-9714-b1119b30a5e1",
   "metadata": {},
   "outputs": [
    {
     "name": "stdout",
     "output_type": "stream",
     "text": [
      "Number of rows post in final_df: 23328\n",
      "Number of expected rows post merge operation: 23718\n",
      "Actual number of rows post merge operation: 23718\n"
     ]
    }
   ],
   "source": [
    "final_df = merge_df(final_df, arunachal_df)"
   ]
  },
  {
   "cell_type": "code",
   "execution_count": 39,
   "id": "e1a6516c-03bb-4abb-9bd2-9f013d4a1d49",
   "metadata": {},
   "outputs": [],
   "source": [
    "assam_df = pd.read_csv(\"assam_pincodes.csv\", header=None)"
   ]
  },
  {
   "cell_type": "code",
   "execution_count": 41,
   "id": "5abca2ca-cebc-41f4-9d48-7da0cdb287fd",
   "metadata": {},
   "outputs": [
    {
     "name": "stdout",
     "output_type": "stream",
     "text": [
      "Number of rows post in final_df: 23718\n",
      "Number of expected rows post merge operation: 27737\n",
      "Actual number of rows post merge operation: 27737\n"
     ]
    }
   ],
   "source": [
    "final_df = merge_df(final_df, assam_df)"
   ]
  },
  {
   "cell_type": "code",
   "execution_count": 43,
   "id": "6bcb6683-c541-448f-b1fe-146d0d01048b",
   "metadata": {},
   "outputs": [],
   "source": [
    "bihar_df = pd.read_csv(\"bihar_pincodes.csv\", header=None)"
   ]
  },
  {
   "cell_type": "code",
   "execution_count": 45,
   "id": "0f438373-68ef-40b5-94e4-42396012a94f",
   "metadata": {},
   "outputs": [
    {
     "name": "stdout",
     "output_type": "stream",
     "text": [
      "Number of rows post in final_df: 27737\n",
      "Number of expected rows post merge operation: 39897\n",
      "Actual number of rows post merge operation: 39897\n"
     ]
    }
   ],
   "source": [
    "final_df = merge_df(final_df, bihar_df)"
   ]
  },
  {
   "cell_type": "code",
   "execution_count": 47,
   "id": "b10fd111-499e-44ff-b772-7ea9ca08db2d",
   "metadata": {},
   "outputs": [],
   "source": [
    "chandigarh_df = pd.read_csv(\"chandigarh_pincodes.csv\", header=None)"
   ]
  },
  {
   "cell_type": "code",
   "execution_count": 49,
   "id": "2907bed3-0880-4942-9301-2abbdc272d56",
   "metadata": {},
   "outputs": [
    {
     "name": "stdout",
     "output_type": "stream",
     "text": [
      "Number of rows post in final_df: 39897\n",
      "Number of expected rows post merge operation: 39968\n",
      "Actual number of rows post merge operation: 39968\n"
     ]
    }
   ],
   "source": [
    "final_df = merge_df(final_df, chandigarh_df)"
   ]
  },
  {
   "cell_type": "code",
   "execution_count": 54,
   "id": "9a9dba4d-6794-40e1-aa33-b86ee0942e1d",
   "metadata": {},
   "outputs": [],
   "source": [
    "chattisgarh_df = pd.read_csv(\"chattisgarh_pincodes.csv\", header=None)"
   ]
  },
  {
   "cell_type": "code",
   "execution_count": 56,
   "id": "e5183fe9-92fa-49f1-baaf-a72c63c05a9b",
   "metadata": {},
   "outputs": [
    {
     "name": "stdout",
     "output_type": "stream",
     "text": [
      "Number of rows post in final_df: 39968\n",
      "Number of expected rows post merge operation: 43118\n",
      "Actual number of rows post merge operation: 43118\n"
     ]
    }
   ],
   "source": [
    "final_df = merge_df(final_df, chattisgarh_df)"
   ]
  },
  {
   "cell_type": "code",
   "execution_count": 60,
   "id": "1d22b678-6acb-464f-ab47-7ec274ddef11",
   "metadata": {},
   "outputs": [],
   "source": [
    "dadranagar_df = pd.read_csv(\"dadranagar_pincodes.csv\", header=None)"
   ]
  },
  {
   "cell_type": "code",
   "execution_count": 62,
   "id": "5d359090-bf80-45e3-8d36-fca36f164418",
   "metadata": {},
   "outputs": [
    {
     "name": "stdout",
     "output_type": "stream",
     "text": [
      "Number of rows post in final_df: 43118\n",
      "Number of expected rows post merge operation: 43168\n",
      "Actual number of rows post merge operation: 43168\n"
     ]
    }
   ],
   "source": [
    "final_df = merge_df(final_df, dadranagar_df)"
   ]
  },
  {
   "cell_type": "code",
   "execution_count": 64,
   "id": "6c411aaf-8cfe-497b-b10b-c42f9e461b3b",
   "metadata": {},
   "outputs": [],
   "source": [
    "damandiu_df = pd.read_csv(\"damandiu_pincodes.csv\", header=None)"
   ]
  },
  {
   "cell_type": "code",
   "execution_count": 66,
   "id": "57dd56d4-3f09-4c05-b8cb-33699be737bc",
   "metadata": {},
   "outputs": [
    {
     "name": "stdout",
     "output_type": "stream",
     "text": [
      "Number of rows post in final_df: 43168\n",
      "Number of expected rows post merge operation: 43188\n",
      "Actual number of rows post merge operation: 43188\n"
     ]
    }
   ],
   "source": [
    "final_df = merge_df(final_df, damandiu_df)"
   ]
  },
  {
   "cell_type": "code",
   "execution_count": 68,
   "id": "40ecf388-7834-4892-b4b3-97ad3672d559",
   "metadata": {},
   "outputs": [],
   "source": [
    "delhi_df = pd.read_csv(\"delhi_pincodes.csv\", header=None)"
   ]
  },
  {
   "cell_type": "code",
   "execution_count": 70,
   "id": "9c4abc06-cc8b-4a65-865a-aab0506a4db0",
   "metadata": {},
   "outputs": [
    {
     "name": "stdout",
     "output_type": "stream",
     "text": [
      "Number of rows post in final_df: 43188\n",
      "Number of expected rows post merge operation: 43733\n",
      "Actual number of rows post merge operation: 43733\n"
     ]
    }
   ],
   "source": [
    "final_df = merge_df(final_df, delhi_df)"
   ]
  },
  {
   "cell_type": "code",
   "execution_count": 72,
   "id": "be1c9c72-118e-4740-8b82-3d0753adc9e8",
   "metadata": {},
   "outputs": [],
   "source": [
    "goa_df = pd.read_csv(\"goa_pincodes.csv\", header=None)"
   ]
  },
  {
   "cell_type": "code",
   "execution_count": 74,
   "id": "21e046ee-1f8c-4819-ab82-2d04548ea7d5",
   "metadata": {},
   "outputs": [
    {
     "name": "stdout",
     "output_type": "stream",
     "text": [
      "Number of rows post in final_df: 43733\n",
      "Number of expected rows post merge operation: 43980\n",
      "Actual number of rows post merge operation: 43980\n"
     ]
    }
   ],
   "source": [
    "final_df = merge_df(final_df, goa_df)"
   ]
  },
  {
   "cell_type": "code",
   "execution_count": 76,
   "id": "786e1703-6e11-4df2-86f9-31f5fd4a2bbb",
   "metadata": {},
   "outputs": [],
   "source": [
    "gujrat_df = pd.read_csv(\"gujrat_pincodes.csv\", header=None)"
   ]
  },
  {
   "cell_type": "code",
   "execution_count": 78,
   "id": "b22b146d-de66-4804-aea4-15b085365314",
   "metadata": {},
   "outputs": [
    {
     "name": "stdout",
     "output_type": "stream",
     "text": [
      "Number of rows post in final_df: 43980\n",
      "Number of expected rows post merge operation: 52976\n",
      "Actual number of rows post merge operation: 52976\n"
     ]
    }
   ],
   "source": [
    "final_df = merge_df(final_df, gujrat_df)"
   ]
  },
  {
   "cell_type": "code",
   "execution_count": 80,
   "id": "fdeb5520-11e0-4038-a9bf-cdfe3a6ee256",
   "metadata": {},
   "outputs": [],
   "source": [
    "haryana_df = pd.read_csv(\"haryana_pincodes.csv\", header=None)"
   ]
  },
  {
   "cell_type": "code",
   "execution_count": 82,
   "id": "a895ccaa-da5e-4497-a0f7-a8e32168878f",
   "metadata": {},
   "outputs": [
    {
     "name": "stdout",
     "output_type": "stream",
     "text": [
      "Number of rows post in final_df: 52976\n",
      "Number of expected rows post merge operation: 55665\n",
      "Actual number of rows post merge operation: 55665\n"
     ]
    }
   ],
   "source": [
    "final_df = merge_df(final_df, haryana_df)"
   ]
  },
  {
   "cell_type": "code",
   "execution_count": 84,
   "id": "962880c1-19ef-4021-beae-591f8c23db16",
   "metadata": {},
   "outputs": [],
   "source": [
    "himachal_df = pd.read_csv(\"himachal_pincodes.csv\", header=None)"
   ]
  },
  {
   "cell_type": "code",
   "execution_count": 86,
   "id": "e523bd44-a9a2-4ed9-9142-6db113df2144",
   "metadata": {},
   "outputs": [
    {
     "name": "stdout",
     "output_type": "stream",
     "text": [
      "Number of rows post in final_df: 55665\n",
      "Number of expected rows post merge operation: 58446\n",
      "Actual number of rows post merge operation: 58446\n"
     ]
    }
   ],
   "source": [
    "final_df = merge_df(final_df, himachal_df)"
   ]
  },
  {
   "cell_type": "code",
   "execution_count": 88,
   "id": "1425936e-4abd-4621-af4c-adf6fe41eed9",
   "metadata": {},
   "outputs": [],
   "source": [
    "jammukashmir_df = pd.read_csv(\"jammukashmir_pincodes.csv\", header=None)"
   ]
  },
  {
   "cell_type": "code",
   "execution_count": 90,
   "id": "18716209-1489-4504-acf0-f8eb6efefb99",
   "metadata": {},
   "outputs": [
    {
     "name": "stdout",
     "output_type": "stream",
     "text": [
      "Number of rows post in final_df: 58446\n",
      "Number of expected rows post merge operation: 60130\n",
      "Actual number of rows post merge operation: 60130\n"
     ]
    }
   ],
   "source": [
    "final_df = merge_df(final_df, jammukashmir_df)"
   ]
  },
  {
   "cell_type": "code",
   "execution_count": 92,
   "id": "499b35dd-29d0-42e0-a74a-542aa643d65f",
   "metadata": {},
   "outputs": [],
   "source": [
    "jharkhand_df = pd.read_csv(\"jharkhand_pincodes.csv\", header=None)"
   ]
  },
  {
   "cell_type": "code",
   "execution_count": 94,
   "id": "e13926a7-741c-4376-a3c4-eb1c3d8ddc22",
   "metadata": {},
   "outputs": [
    {
     "name": "stdout",
     "output_type": "stream",
     "text": [
      "Number of rows post in final_df: 60130\n",
      "Number of expected rows post merge operation: 64198\n",
      "Actual number of rows post merge operation: 64198\n"
     ]
    }
   ],
   "source": [
    "final_df = merge_df(final_df, jharkhand_df)"
   ]
  },
  {
   "cell_type": "code",
   "execution_count": 96,
   "id": "2b5f28f3-b67c-4847-996d-92d717962ca9",
   "metadata": {},
   "outputs": [],
   "source": [
    "karnataka_df = pd.read_csv(\"karnataka_pincodes.csv\", header=None)"
   ]
  },
  {
   "cell_type": "code",
   "execution_count": 98,
   "id": "8a831904-8fca-4912-8978-e974d826c41b",
   "metadata": {},
   "outputs": [
    {
     "name": "stdout",
     "output_type": "stream",
     "text": [
      "Number of rows post in final_df: 64198\n",
      "Number of expected rows post merge operation: 73884\n",
      "Actual number of rows post merge operation: 73884\n"
     ]
    }
   ],
   "source": [
    "final_df = merge_df(final_df, karnataka_df)"
   ]
  },
  {
   "cell_type": "code",
   "execution_count": 100,
   "id": "9e745d75-e1e5-448f-bbfb-db45416d1417",
   "metadata": {},
   "outputs": [],
   "source": [
    "kerela_df = pd.read_csv(\"kerela_pincodes.csv\", header=None)"
   ]
  },
  {
   "cell_type": "code",
   "execution_count": 102,
   "id": "75e024f7-e41d-4c55-a4b7-f25ad4a49404",
   "metadata": {},
   "outputs": [
    {
     "name": "stdout",
     "output_type": "stream",
     "text": [
      "Number of rows post in final_df: 73884\n",
      "Number of expected rows post merge operation: 78955\n",
      "Actual number of rows post merge operation: 78955\n"
     ]
    }
   ],
   "source": [
    "final_df = merge_df(final_df, kerela_df)"
   ]
  },
  {
   "cell_type": "code",
   "execution_count": 104,
   "id": "92884935-2761-446a-9a22-8907d1c85097",
   "metadata": {},
   "outputs": [],
   "source": [
    "lakshwadeep_df = pd.read_csv(\"lakshwadeep_pincodes.csv\", header=None)"
   ]
  },
  {
   "cell_type": "code",
   "execution_count": 106,
   "id": "444cf31f-c2f0-4ccb-8b6a-2f4d6fbcf657",
   "metadata": {},
   "outputs": [
    {
     "name": "stdout",
     "output_type": "stream",
     "text": [
      "Number of rows post in final_df: 78955\n",
      "Number of expected rows post merge operation: 78965\n",
      "Actual number of rows post merge operation: 78965\n"
     ]
    }
   ],
   "source": [
    "final_df = merge_df(final_df, lakshwadeep_df)"
   ]
  },
  {
   "cell_type": "code",
   "execution_count": 130,
   "id": "8f2106f0-4037-4a27-8ce8-5c03f72e3e4c",
   "metadata": {},
   "outputs": [],
   "source": [
    "Manipur_df = pd.read_csv(\"Manipur_pincodes.csv\", header=None)"
   ]
  },
  {
   "cell_type": "code",
   "execution_count": 136,
   "id": "a414c773-3bcf-4863-aca5-819876d07dd9",
   "metadata": {},
   "outputs": [],
   "source": [
    "Manipur_df = Manipur_df.drop(0, axis=1)"
   ]
  },
  {
   "cell_type": "code",
   "execution_count": 138,
   "id": "1e2166c6-638a-4c0a-b217-382aa841e53d",
   "metadata": {},
   "outputs": [
    {
     "data": {
      "text/plain": [
       "12"
      ]
     },
     "execution_count": 138,
     "metadata": {},
     "output_type": "execute_result"
    }
   ],
   "source": [
    "Manipur_df.shape[1]"
   ]
  },
  {
   "cell_type": "code",
   "execution_count": 140,
   "id": "487a6925-af58-46a9-bd18-9ee92a2025c2",
   "metadata": {},
   "outputs": [
    {
     "data": {
      "text/plain": [
       "12"
      ]
     },
     "execution_count": 140,
     "metadata": {},
     "output_type": "execute_result"
    }
   ],
   "source": [
    "final_df.shape[1]"
   ]
  },
  {
   "cell_type": "code",
   "execution_count": 142,
   "id": "dbc65e06-ffdc-40ce-9acc-585e5282d779",
   "metadata": {},
   "outputs": [
    {
     "name": "stdout",
     "output_type": "stream",
     "text": [
      "Number of rows post in final_df: 78965\n",
      "Number of expected rows post merge operation: 79664\n",
      "Actual number of rows post merge operation: 79664\n"
     ]
    }
   ],
   "source": [
    "final_df = merge_df(final_df, Manipur_df)"
   ]
  },
  {
   "cell_type": "code",
   "execution_count": 144,
   "id": "5d8f2ed4-a851-41f7-bbdc-b6097d8828a8",
   "metadata": {},
   "outputs": [],
   "source": [
    "meghalaya_df = pd.read_csv(\"meghalaya_pincodes.csv\", header=None)"
   ]
  },
  {
   "cell_type": "code",
   "execution_count": 148,
   "id": "3f49f685-f043-45f3-a239-4c3051070083",
   "metadata": {},
   "outputs": [],
   "source": [
    "meghalaya_df = meghalaya_df.drop(0, axis=1)"
   ]
  },
  {
   "cell_type": "code",
   "execution_count": 150,
   "id": "74de611f-e0ad-49fb-b27c-11938248f0b9",
   "metadata": {},
   "outputs": [
    {
     "data": {
      "text/plain": [
       "Index([1, 2, 3, 4, 5, 6, 7, 8, 9, 10, 11, 12], dtype='int64')"
      ]
     },
     "execution_count": 150,
     "metadata": {},
     "output_type": "execute_result"
    }
   ],
   "source": [
    "meghalaya_df.columns"
   ]
  },
  {
   "cell_type": "code",
   "execution_count": 152,
   "id": "1802e14c-a4b4-4ed9-b6b8-5487ff51c380",
   "metadata": {},
   "outputs": [
    {
     "name": "stdout",
     "output_type": "stream",
     "text": [
      "Number of rows post in final_df: 79664\n",
      "Number of expected rows post merge operation: 83141\n",
      "Actual number of rows post merge operation: 83141\n"
     ]
    }
   ],
   "source": [
    "final_df = merge_df(final_df, meghalaya_df)"
   ]
  },
  {
   "cell_type": "code",
   "execution_count": 154,
   "id": "c8179445-d577-4e0d-81dc-9ca3b794ac5a",
   "metadata": {},
   "outputs": [],
   "source": [
    "Mizoram_df = pd.read_csv(\"Mizoram_pincodes.csv\") # The file has header present"
   ]
  },
  {
   "cell_type": "code",
   "execution_count": 156,
   "id": "67197f0d-024d-449b-99da-7ad11bc7ac87",
   "metadata": {},
   "outputs": [
    {
     "name": "stdout",
     "output_type": "stream",
     "text": [
      "Number of rows post in final_df: 83141\n",
      "Number of expected rows post merge operation: 83839\n",
      "Actual number of rows post merge operation: 83839\n"
     ]
    }
   ],
   "source": [
    "final_df = merge_df(final_df, Mizoram_df)"
   ]
  },
  {
   "cell_type": "code",
   "execution_count": 158,
   "id": "e831f3f4-4c5b-4c7d-bf81-8c32ea873145",
   "metadata": {},
   "outputs": [],
   "source": [
    "mp_df = pd.read_csv(\"mp_pincodes.csv\", header=None)"
   ]
  },
  {
   "cell_type": "code",
   "execution_count": 160,
   "id": "b2ecdecd-e2b7-4965-9fa6-887645dcf516",
   "metadata": {},
   "outputs": [
    {
     "name": "stdout",
     "output_type": "stream",
     "text": [
      "Number of rows post in final_df: 83839\n",
      "Number of expected rows post merge operation: 92147\n",
      "Actual number of rows post merge operation: 92147\n"
     ]
    }
   ],
   "source": [
    "final_df = merge_df(final_df, mp_df)"
   ]
  },
  {
   "cell_type": "code",
   "execution_count": 162,
   "id": "77c72532-ae49-4886-befb-5d0705eab28a",
   "metadata": {},
   "outputs": [],
   "source": [
    "Nagaland_df = pd.read_csv(\"Nagaland_pincodes.csv\") # The file has header present"
   ]
  },
  {
   "cell_type": "code",
   "execution_count": 164,
   "id": "264c0486-96f8-44af-b52c-acd8bd724b06",
   "metadata": {},
   "outputs": [
    {
     "name": "stdout",
     "output_type": "stream",
     "text": [
      "Number of rows post in final_df: 92147\n",
      "Number of expected rows post merge operation: 92478\n",
      "Actual number of rows post merge operation: 92478\n"
     ]
    }
   ],
   "source": [
    "final_df = merge_df(final_df, Nagaland_df)"
   ]
  },
  {
   "cell_type": "code",
   "execution_count": 166,
   "id": "b5965071-ff3c-456e-bd1c-68518606d577",
   "metadata": {},
   "outputs": [],
   "source": [
    "odisha_df = pd.read_csv(\"odisha_pincodes.csv\") # The file has header present"
   ]
  },
  {
   "cell_type": "code",
   "execution_count": 168,
   "id": "a1c18198-e8aa-489b-b11e-6ea3060361e0",
   "metadata": {},
   "outputs": [
    {
     "name": "stdout",
     "output_type": "stream",
     "text": [
      "Number of rows post in final_df: 92478\n",
      "Number of expected rows post merge operation: 100644\n",
      "Actual number of rows post merge operation: 100644\n"
     ]
    }
   ],
   "source": [
    "final_df = merge_df(final_df, odisha_df)"
   ]
  },
  {
   "cell_type": "code",
   "execution_count": 170,
   "id": "f5ff28e7-ab5a-49ab-811c-1bcd753496ca",
   "metadata": {},
   "outputs": [],
   "source": [
    "pondicherry_df = pd.read_csv(\"pondicherry_pincodes.csv\") # The file has header present"
   ]
  },
  {
   "cell_type": "code",
   "execution_count": 172,
   "id": "768d9dc9-555c-46ab-b58f-7e95022afd7f",
   "metadata": {},
   "outputs": [
    {
     "name": "stdout",
     "output_type": "stream",
     "text": [
      "Number of rows post in final_df: 100644\n",
      "Number of expected rows post merge operation: 102178\n",
      "Actual number of rows post merge operation: 102178\n"
     ]
    }
   ],
   "source": [
    "final_df = merge_df(final_df, pondicherry_df)"
   ]
  },
  {
   "cell_type": "code",
   "execution_count": 174,
   "id": "8cfc57e6-bf29-4b27-8932-5c67fc3e2a4d",
   "metadata": {},
   "outputs": [],
   "source": [
    "punjab_df = pd.read_csv(\"punjab_pincodes.csv\") # The file has heder present"
   ]
  },
  {
   "cell_type": "code",
   "execution_count": 176,
   "id": "c190e45d-9e40-4465-bd03-763e7011201f",
   "metadata": {},
   "outputs": [
    {
     "name": "stdout",
     "output_type": "stream",
     "text": [
      "Number of rows post in final_df: 102178\n",
      "Number of expected rows post merge operation: 106054\n",
      "Actual number of rows post merge operation: 106054\n"
     ]
    }
   ],
   "source": [
    "final_df = merge_df(final_df, punjab_df)"
   ]
  },
  {
   "cell_type": "code",
   "execution_count": 178,
   "id": "a031a53a-73f9-473b-91bc-661cf5d95a9a",
   "metadata": {},
   "outputs": [],
   "source": [
    "rajasthan_df = pd.read_csv(\"rajasthan_pincodes.csv\", header=None)"
   ]
  },
  {
   "cell_type": "code",
   "execution_count": 180,
   "id": "6876d3f7-23ed-4961-8df2-8c8eb09843cc",
   "metadata": {},
   "outputs": [
    {
     "name": "stdout",
     "output_type": "stream",
     "text": [
      "Number of rows post in final_df: 106054\n",
      "Number of expected rows post merge operation: 116388\n",
      "Actual number of rows post merge operation: 116388\n"
     ]
    }
   ],
   "source": [
    "final_df = merge_df(final_df, rajasthan_df)"
   ]
  },
  {
   "cell_type": "code",
   "execution_count": 182,
   "id": "5b866edb-7e14-4a4a-9a8a-a0398356828c",
   "metadata": {},
   "outputs": [],
   "source": [
    "sikkim_df = pd.read_csv(\"sikkim_pincodes.csv\", header=None)"
   ]
  },
  {
   "cell_type": "code",
   "execution_count": 184,
   "id": "d0666af6-93b5-4cbb-82bf-e1a70a80a8ff",
   "metadata": {},
   "outputs": [
    {
     "name": "stdout",
     "output_type": "stream",
     "text": [
      "Number of rows post in final_df: 116388\n",
      "Number of expected rows post merge operation: 116709\n",
      "Actual number of rows post merge operation: 116709\n"
     ]
    }
   ],
   "source": [
    "final_df = merge_df(final_df, sikkim_df)"
   ]
  },
  {
   "cell_type": "code",
   "execution_count": 186,
   "id": "ddee9fb7-017e-452b-8d68-e1153246789b",
   "metadata": {},
   "outputs": [],
   "source": [
    "tamilnadu_df = pd.read_csv(\"tamilnadu_pincodes.csv\", header=None)"
   ]
  },
  {
   "cell_type": "code",
   "execution_count": 188,
   "id": "dc9f4388-a470-4dc2-808e-7e35524d73b5",
   "metadata": {},
   "outputs": [
    {
     "name": "stdout",
     "output_type": "stream",
     "text": [
      "Number of rows post in final_df: 116709\n",
      "Number of expected rows post merge operation: 128675\n",
      "Actual number of rows post merge operation: 128675\n"
     ]
    }
   ],
   "source": [
    "final_df = merge_df(final_df, tamilnadu_df)"
   ]
  },
  {
   "cell_type": "code",
   "execution_count": 190,
   "id": "44f30940-5c31-4470-93dd-7e212481ee94",
   "metadata": {},
   "outputs": [],
   "source": [
    "telangana_df = pd.read_csv(\"telangana_pincodes.csv\", header=None)"
   ]
  },
  {
   "cell_type": "code",
   "execution_count": 192,
   "id": "147304af-fd8d-4723-82b2-6cbe2e46b522",
   "metadata": {},
   "outputs": [
    {
     "name": "stdout",
     "output_type": "stream",
     "text": [
      "Number of rows post in final_df: 128675\n",
      "Number of expected rows post merge operation: 134511\n",
      "Actual number of rows post merge operation: 134511\n"
     ]
    }
   ],
   "source": [
    "final_df = merge_df(final_df, telangana_df)"
   ]
  },
  {
   "cell_type": "code",
   "execution_count": 194,
   "id": "eb010690-7634-4a34-9b7d-84ff73bfe357",
   "metadata": {},
   "outputs": [],
   "source": [
    "tripura_df = pd.read_csv(\"tripura_pincodes.csv\", header=None)"
   ]
  },
  {
   "cell_type": "code",
   "execution_count": 196,
   "id": "7824fecf-ff85-429b-bb5c-3db7d45e378c",
   "metadata": {},
   "outputs": [
    {
     "name": "stdout",
     "output_type": "stream",
     "text": [
      "Number of rows post in final_df: 134511\n",
      "Number of expected rows post merge operation: 135219\n",
      "Actual number of rows post merge operation: 135219\n"
     ]
    }
   ],
   "source": [
    "final_df = merge_df(final_df, tripura_df)"
   ]
  },
  {
   "cell_type": "code",
   "execution_count": 198,
   "id": "a3bae8e8-3ae7-49ef-af10-23bdb10948cf",
   "metadata": {},
   "outputs": [],
   "source": [
    "up_df = pd.read_csv(\"up_pincodes.csv\", header=None)"
   ]
  },
  {
   "cell_type": "code",
   "execution_count": 200,
   "id": "085e3b96-ff4c-42aa-b4c4-d34378d75435",
   "metadata": {},
   "outputs": [
    {
     "name": "stdout",
     "output_type": "stream",
     "text": [
      "Number of rows post in final_df: 135219\n",
      "Number of expected rows post merge operation: 155619\n",
      "Actual number of rows post merge operation: 155619\n"
     ]
    }
   ],
   "source": [
    "final_df = merge_df(final_df, up_df)"
   ]
  },
  {
   "cell_type": "code",
   "execution_count": 202,
   "id": "718c1976-458e-4460-985d-6debcb7fc314",
   "metadata": {},
   "outputs": [],
   "source": [
    "uttarakhand_df = pd.read_csv(\"uttarakhand_pincodes.csv\", header=None)"
   ]
  },
  {
   "cell_type": "code",
   "execution_count": 204,
   "id": "1fcb49b7-e378-4472-96b2-05cbe3ca8c9f",
   "metadata": {},
   "outputs": [
    {
     "name": "stdout",
     "output_type": "stream",
     "text": [
      "Number of rows post in final_df: 155619\n",
      "Number of expected rows post merge operation: 160762\n",
      "Actual number of rows post merge operation: 160762\n"
     ]
    }
   ],
   "source": [
    "final_df = merge_df(final_df, uttarakhand_df)"
   ]
  },
  {
   "cell_type": "code",
   "execution_count": 206,
   "id": "ef94d333-139f-4483-8a22-c61ce4315efe",
   "metadata": {},
   "outputs": [],
   "source": [
    "wb_df = pd.read_csv(\"wb_pincodes.csv\", header=None)"
   ]
  },
  {
   "cell_type": "code",
   "execution_count": 208,
   "id": "11f359f9-c86f-4c40-a150-e1fc65fcb068",
   "metadata": {},
   "outputs": [
    {
     "name": "stdout",
     "output_type": "stream",
     "text": [
      "Number of rows post in final_df: 160762\n",
      "Number of expected rows post merge operation: 169745\n",
      "Actual number of rows post merge operation: 169745\n"
     ]
    }
   ],
   "source": [
    "final_df = merge_df(final_df, wb_df)"
   ]
  },
  {
   "cell_type": "code",
   "execution_count": 210,
   "id": "96d79ff8-e77d-4848-9ccf-49c8f4f21f8a",
   "metadata": {},
   "outputs": [],
   "source": [
    "final_df.to_csv(\"all_india_pincodes.csv\", index=False)"
   ]
  },
  {
   "cell_type": "code",
   "execution_count": 212,
   "id": "a10607f6-55bc-4973-9885-0145a98ff75d",
   "metadata": {},
   "outputs": [
    {
     "data": {
      "text/plain": [
       "169745"
      ]
     },
     "execution_count": 212,
     "metadata": {},
     "output_type": "execute_result"
    }
   ],
   "source": [
    "final_df.shape[0]"
   ]
  },
  {
   "cell_type": "code",
   "execution_count": 216,
   "id": "3c4c30dd-e7c4-4038-bafd-8f63eb53c852",
   "metadata": {},
   "outputs": [
    {
     "data": {
      "text/plain": [
       "169742"
      ]
     },
     "execution_count": 216,
     "metadata": {},
     "output_type": "execute_result"
    }
   ],
   "source": [
    "final_df['Description'].isnull().sum()"
   ]
  },
  {
   "cell_type": "code",
   "execution_count": 218,
   "id": "830f07e9-9683-4cd6-ba72-9aa32218aaf1",
   "metadata": {},
   "outputs": [],
   "source": [
    "duplicate_mask = final_df.duplicated()"
   ]
  },
  {
   "cell_type": "code",
   "execution_count": 220,
   "id": "b21359af-d753-4386-880b-c16e47254af2",
   "metadata": {},
   "outputs": [
    {
     "data": {
      "text/plain": [
       "12271"
      ]
     },
     "execution_count": 220,
     "metadata": {},
     "output_type": "execute_result"
    }
   ],
   "source": [
    "duplicate_mask.sum()"
   ]
  },
  {
   "cell_type": "code",
   "execution_count": 226,
   "id": "ac948c17-764a-4820-beff-99409cc4103d",
   "metadata": {},
   "outputs": [],
   "source": [
    "duplicates_df = final_df[duplicate_mask]"
   ]
  },
  {
   "cell_type": "code",
   "execution_count": 228,
   "id": "e49941cd-398d-47fd-8807-41be9bdff7d4",
   "metadata": {},
   "outputs": [
    {
     "data": {
      "text/html": [
       "<div>\n",
       "<style scoped>\n",
       "    .dataframe tbody tr th:only-of-type {\n",
       "        vertical-align: middle;\n",
       "    }\n",
       "\n",
       "    .dataframe tbody tr th {\n",
       "        vertical-align: top;\n",
       "    }\n",
       "\n",
       "    .dataframe thead th {\n",
       "        text-align: right;\n",
       "    }\n",
       "</style>\n",
       "<table border=\"1\" class=\"dataframe\">\n",
       "  <thead>\n",
       "    <tr style=\"text-align: right;\">\n",
       "      <th></th>\n",
       "      <th>Name</th>\n",
       "      <th>Description</th>\n",
       "      <th>BranchType</th>\n",
       "      <th>DeliveryStatus</th>\n",
       "      <th>Circle</th>\n",
       "      <th>District</th>\n",
       "      <th>Division</th>\n",
       "      <th>Region</th>\n",
       "      <th>Block</th>\n",
       "      <th>State</th>\n",
       "      <th>Country</th>\n",
       "      <th>Pincode</th>\n",
       "    </tr>\n",
       "  </thead>\n",
       "  <tbody>\n",
       "    <tr>\n",
       "      <th>12992</th>\n",
       "      <td>Donkarayi</td>\n",
       "      <td>NaN</td>\n",
       "      <td>Sub Post Office</td>\n",
       "      <td>Delivery</td>\n",
       "      <td>Andhra Pradesh</td>\n",
       "      <td>East Godavari</td>\n",
       "      <td>Khammam</td>\n",
       "      <td>Vijayawada</td>\n",
       "      <td>Donkarayi</td>\n",
       "      <td>Andhra Pradesh</td>\n",
       "      <td>India</td>\n",
       "      <td>507130</td>\n",
       "    </tr>\n",
       "    <tr>\n",
       "      <th>12993</th>\n",
       "      <td>Forebey Dam Camp</td>\n",
       "      <td>NaN</td>\n",
       "      <td>Branch Post Office</td>\n",
       "      <td>Delivery</td>\n",
       "      <td>Andhra Pradesh</td>\n",
       "      <td>East Godavari</td>\n",
       "      <td>Khammam</td>\n",
       "      <td>Vijayawada</td>\n",
       "      <td>Donkarayi</td>\n",
       "      <td>Andhra Pradesh</td>\n",
       "      <td>India</td>\n",
       "      <td>507130</td>\n",
       "    </tr>\n",
       "    <tr>\n",
       "      <th>12994</th>\n",
       "      <td>Mangampadu</td>\n",
       "      <td>NaN</td>\n",
       "      <td>Branch Post Office</td>\n",
       "      <td>Delivery</td>\n",
       "      <td>Andhra Pradesh</td>\n",
       "      <td>East Godavari</td>\n",
       "      <td>Khammam</td>\n",
       "      <td>Vijayawada</td>\n",
       "      <td>Donkarayi</td>\n",
       "      <td>Andhra Pradesh</td>\n",
       "      <td>India</td>\n",
       "      <td>507130</td>\n",
       "    </tr>\n",
       "    <tr>\n",
       "      <th>12995</th>\n",
       "      <td>Anantapur</td>\n",
       "      <td>NaN</td>\n",
       "      <td>Head Post Office</td>\n",
       "      <td>Delivery</td>\n",
       "      <td>Andhra Pradesh</td>\n",
       "      <td>Ananthapur</td>\n",
       "      <td>Anantapur</td>\n",
       "      <td>Kurnool</td>\n",
       "      <td>Anantapur</td>\n",
       "      <td>Andhra Pradesh</td>\n",
       "      <td>India</td>\n",
       "      <td>515001</td>\n",
       "    </tr>\n",
       "    <tr>\n",
       "      <th>12996</th>\n",
       "      <td>Anantapur Collectorate</td>\n",
       "      <td>NaN</td>\n",
       "      <td>Sub Post Office</td>\n",
       "      <td>Non-Delivery</td>\n",
       "      <td>Andhra Pradesh</td>\n",
       "      <td>Ananthapur</td>\n",
       "      <td>Anantapur</td>\n",
       "      <td>Kurnool</td>\n",
       "      <td>Anantapur</td>\n",
       "      <td>Andhra Pradesh</td>\n",
       "      <td>India</td>\n",
       "      <td>515001</td>\n",
       "    </tr>\n",
       "    <tr>\n",
       "      <th>...</th>\n",
       "      <td>...</td>\n",
       "      <td>...</td>\n",
       "      <td>...</td>\n",
       "      <td>...</td>\n",
       "      <td>...</td>\n",
       "      <td>...</td>\n",
       "      <td>...</td>\n",
       "      <td>...</td>\n",
       "      <td>...</td>\n",
       "      <td>...</td>\n",
       "      <td>...</td>\n",
       "      <td>...</td>\n",
       "    </tr>\n",
       "    <tr>\n",
       "      <th>167504</th>\n",
       "      <td>Ralang</td>\n",
       "      <td>NaN</td>\n",
       "      <td>Branch Post Office</td>\n",
       "      <td>Delivery</td>\n",
       "      <td>West Bengal</td>\n",
       "      <td>South Sikkim</td>\n",
       "      <td>Sikkim</td>\n",
       "      <td>North Bengal And Sikkim</td>\n",
       "      <td>Ravangla</td>\n",
       "      <td>Sikkim</td>\n",
       "      <td>India</td>\n",
       "      <td>737139</td>\n",
       "    </tr>\n",
       "    <tr>\n",
       "      <th>167505</th>\n",
       "      <td>Ravangla</td>\n",
       "      <td>NaN</td>\n",
       "      <td>Sub Post Office</td>\n",
       "      <td>Delivery</td>\n",
       "      <td>West Bengal</td>\n",
       "      <td>South Sikkim</td>\n",
       "      <td>Sikkim</td>\n",
       "      <td>North Bengal And Sikkim</td>\n",
       "      <td>Ravangla</td>\n",
       "      <td>Sikkim</td>\n",
       "      <td>India</td>\n",
       "      <td>737139</td>\n",
       "    </tr>\n",
       "    <tr>\n",
       "      <th>167506</th>\n",
       "      <td>Sangmoo</td>\n",
       "      <td>NaN</td>\n",
       "      <td>Branch Post Office</td>\n",
       "      <td>Delivery</td>\n",
       "      <td>West Bengal</td>\n",
       "      <td>South Sikkim</td>\n",
       "      <td>Sikkim</td>\n",
       "      <td>North Bengal And Sikkim</td>\n",
       "      <td>Ravangla</td>\n",
       "      <td>Sikkim</td>\n",
       "      <td>India</td>\n",
       "      <td>737139</td>\n",
       "    </tr>\n",
       "    <tr>\n",
       "      <th>167507</th>\n",
       "      <td>Tingmoo</td>\n",
       "      <td>NaN</td>\n",
       "      <td>Branch Post Office</td>\n",
       "      <td>Delivery</td>\n",
       "      <td>West Bengal</td>\n",
       "      <td>South Sikkim</td>\n",
       "      <td>Sikkim</td>\n",
       "      <td>North Bengal And Sikkim</td>\n",
       "      <td>Ravangla</td>\n",
       "      <td>Sikkim</td>\n",
       "      <td>India</td>\n",
       "      <td>737139</td>\n",
       "    </tr>\n",
       "    <tr>\n",
       "      <th>167508</th>\n",
       "      <td>Tinkitam</td>\n",
       "      <td>NaN</td>\n",
       "      <td>Branch Post Office</td>\n",
       "      <td>Delivery</td>\n",
       "      <td>West Bengal</td>\n",
       "      <td>South Sikkim</td>\n",
       "      <td>Sikkim</td>\n",
       "      <td>North Bengal And Sikkim</td>\n",
       "      <td>Ravangla</td>\n",
       "      <td>Sikkim</td>\n",
       "      <td>India</td>\n",
       "      <td>737139</td>\n",
       "    </tr>\n",
       "  </tbody>\n",
       "</table>\n",
       "<p>12271 rows × 12 columns</p>\n",
       "</div>"
      ],
      "text/plain": [
       "                          Name Description          BranchType DeliveryStatus  \\\n",
       "12992                Donkarayi         NaN     Sub Post Office       Delivery   \n",
       "12993         Forebey Dam Camp         NaN  Branch Post Office       Delivery   \n",
       "12994               Mangampadu         NaN  Branch Post Office       Delivery   \n",
       "12995                Anantapur         NaN    Head Post Office       Delivery   \n",
       "12996   Anantapur Collectorate         NaN     Sub Post Office   Non-Delivery   \n",
       "...                        ...         ...                 ...            ...   \n",
       "167504                  Ralang         NaN  Branch Post Office       Delivery   \n",
       "167505                Ravangla         NaN     Sub Post Office       Delivery   \n",
       "167506                 Sangmoo         NaN  Branch Post Office       Delivery   \n",
       "167507                 Tingmoo         NaN  Branch Post Office       Delivery   \n",
       "167508                Tinkitam         NaN  Branch Post Office       Delivery   \n",
       "\n",
       "                Circle       District   Division                   Region  \\\n",
       "12992   Andhra Pradesh  East Godavari    Khammam               Vijayawada   \n",
       "12993   Andhra Pradesh  East Godavari    Khammam               Vijayawada   \n",
       "12994   Andhra Pradesh  East Godavari    Khammam               Vijayawada   \n",
       "12995   Andhra Pradesh     Ananthapur  Anantapur                  Kurnool   \n",
       "12996   Andhra Pradesh     Ananthapur  Anantapur                  Kurnool   \n",
       "...                ...            ...        ...                      ...   \n",
       "167504     West Bengal   South Sikkim     Sikkim  North Bengal And Sikkim   \n",
       "167505     West Bengal   South Sikkim     Sikkim  North Bengal And Sikkim   \n",
       "167506     West Bengal   South Sikkim     Sikkim  North Bengal And Sikkim   \n",
       "167507     West Bengal   South Sikkim     Sikkim  North Bengal And Sikkim   \n",
       "167508     West Bengal   South Sikkim     Sikkim  North Bengal And Sikkim   \n",
       "\n",
       "            Block           State Country Pincode  \n",
       "12992   Donkarayi  Andhra Pradesh   India  507130  \n",
       "12993   Donkarayi  Andhra Pradesh   India  507130  \n",
       "12994   Donkarayi  Andhra Pradesh   India  507130  \n",
       "12995   Anantapur  Andhra Pradesh   India  515001  \n",
       "12996   Anantapur  Andhra Pradesh   India  515001  \n",
       "...           ...             ...     ...     ...  \n",
       "167504   Ravangla          Sikkim   India  737139  \n",
       "167505   Ravangla          Sikkim   India  737139  \n",
       "167506   Ravangla          Sikkim   India  737139  \n",
       "167507   Ravangla          Sikkim   India  737139  \n",
       "167508   Ravangla          Sikkim   India  737139  \n",
       "\n",
       "[12271 rows x 12 columns]"
      ]
     },
     "execution_count": 228,
     "metadata": {},
     "output_type": "execute_result"
    }
   ],
   "source": [
    "duplicates_df"
   ]
  },
  {
   "cell_type": "code",
   "execution_count": 230,
   "id": "38b4fdcb-b47d-4ad9-8edb-b20db2f8f234",
   "metadata": {},
   "outputs": [],
   "source": [
    "final_df = final_df.drop_duplicates(keep='first')"
   ]
  },
  {
   "cell_type": "code",
   "execution_count": 236,
   "id": "931042e7-688e-47a8-9f2d-bf76dcf7185e",
   "metadata": {},
   "outputs": [],
   "source": [
    "final_df.to_csv(\"India_pincodes.csv\", index=False)"
   ]
  },
  {
   "cell_type": "code",
   "execution_count": null,
   "id": "fe895d2e-b15d-458a-8ef8-b92ad09fe08d",
   "metadata": {},
   "outputs": [],
   "source": []
  }
 ],
 "metadata": {
  "kernelspec": {
   "display_name": "Python [conda env:base] *",
   "language": "python",
   "name": "conda-base-py"
  },
  "language_info": {
   "codemirror_mode": {
    "name": "ipython",
    "version": 3
   },
   "file_extension": ".py",
   "mimetype": "text/x-python",
   "name": "python",
   "nbconvert_exporter": "python",
   "pygments_lexer": "ipython3",
   "version": "3.12.7"
  }
 },
 "nbformat": 4,
 "nbformat_minor": 5
}
