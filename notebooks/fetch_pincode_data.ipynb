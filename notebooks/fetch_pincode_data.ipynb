{
 "cells": [
  {
   "cell_type": "code",
   "execution_count": null,
   "id": "dfb80f60-6a1f-4774-84b8-8b705837edb0",
   "metadata": {},
   "outputs": [],
   "source": [
    "import requests\n",
    "import pandas as pd\n",
    "import time"
   ]
  },
  {
   "cell_type": "code",
   "execution_count": null,
   "id": "487b912e-0fbc-47d6-b31d-18989b7e6b12",
   "metadata": {},
   "outputs": [],
   "source": [
    "# Function to fetch post office details for a single PIN code\n",
    "def fetch_post_office_details(pin_code):\n",
    "    url = f\"https://api.postalpincode.in/pincode/{pin_code}\"\n",
    "    try:\n",
    "        response = requests.get(url)\n",
    "        response.raise_for_status()  # Check for HTTP request errors\n",
    "        data = response.json()  # Parse the response as JSON\n",
    "        if data[0]['Status'] == 'Success':\n",
    "            return data[0]['PostOffice']  # Return post office details\n",
    "        else:\n",
    "            return None  # Return None if the PIN code is invalid\n",
    "    except Exception as e:\n",
    "        print(f\"Error fetching details for PIN code {pin_code}: {e}\")\n",
    "        return None"
   ]
  },
  {
   "cell_type": "code",
   "execution_count": null,
   "id": "7cfdc6de-513c-4e1e-9977-6d38499077e3",
   "metadata": {},
   "outputs": [],
   "source": [
    "# Define the range of PIN codes\n",
    "maharashtra_pin_start = 400001\n",
    "maharashtra_pin_end = 445402"
   ]
  },
  {
   "cell_type": "code",
   "execution_count": null,
   "id": "69c1f669-be58-4492-adac-91cac27e6270",
   "metadata": {},
   "outputs": [],
   "source": [
    "# Initialize list to store results\n",
    "all_post_offices = []  # List to store valid post office details"
   ]
  },
  {
   "cell_type": "code",
   "execution_count": null,
   "id": "15c53545-318c-4429-ba7b-abd4191d67e4",
   "metadata": {},
   "outputs": [],
   "source": [
    "# Loop through the range of PIN codes\n",
    "for pin_code in range(maharashtra_pin_start, maharashtra_pin_end + 1):\n",
    "    print(f\"Fetching data for PIN code: {pin_code}\")\n",
    "    post_offices = fetch_post_office_details(pin_code)\n",
    "    \n",
    "    if post_offices:\n",
    "        print(\"Valid pin code!!\")\n",
    "        all_post_offices.extend(post_offices)  # Add valid post office details to the list\n",
    "    else:\n",
    "        print(\"Invalid pin code!!\")\n",
    "    # Adding a short delay to avoid overloading the API\n",
    "    time.sleep(0.1)"
   ]
  },
  {
   "cell_type": "code",
   "execution_count": null,
   "id": "86d6ee06-4643-4f27-a65a-1b53280c8cf7",
   "metadata": {},
   "outputs": [],
   "source": [
    "# Create a DataFrame from the collected data\n",
    "if all_post_offices:\n",
    "    df = pd.DataFrame(all_post_offices)\n",
    "    print(f\"Total valid records fetched: {len(df)}\")\n",
    "    print(df.head())"
   ]
  }
 ],
 "metadata": {
  "kernelspec": {
   "display_name": "Python [conda env:base] *",
   "language": "python",
   "name": "conda-base-py"
  },
  "language_info": {
   "codemirror_mode": {
    "name": "ipython",
    "version": 3
   },
   "file_extension": ".py",
   "mimetype": "text/x-python",
   "name": "python",
   "nbconvert_exporter": "python",
   "pygments_lexer": "ipython3",
   "version": "3.12.7"
  }
 },
 "nbformat": 4,
 "nbformat_minor": 5
}
